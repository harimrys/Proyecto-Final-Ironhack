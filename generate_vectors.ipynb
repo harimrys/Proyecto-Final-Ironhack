{
 "cells": [
  {
   "cell_type": "code",
   "execution_count": 1,
   "metadata": {},
   "outputs": [
    {
     "name": "stderr",
     "output_type": "stream",
     "text": [
      "f:\\Anaconda\\Lib\\site-packages\\sentence_transformers\\cross_encoder\\CrossEncoder.py:13: TqdmExperimentalWarning: Using `tqdm.autonotebook.tqdm` in notebook mode. Use `tqdm.tqdm` instead to force console mode (e.g. in jupyter console)\n",
      "  from tqdm.autonotebook import tqdm, trange\n"
     ]
    }
   ],
   "source": [
    "import pandas as pd\n",
    "from sentence_transformers import SentenceTransformer\n",
    "from pinecone import Pinecone"
   ]
  },
  {
   "cell_type": "code",
   "execution_count": 4,
   "metadata": {},
   "outputs": [
    {
     "name": "stdout",
     "output_type": "stream",
     "text": [
      "Vectores cargados en Pinecone.\n"
     ]
    }
   ],
   "source": [
    "\n",
    "# Cargar el DataFrame\n",
    "df = pd.read_csv(\"data/df_images.csv\")  # Reemplaza con la ruta a tu archivo CSV\n",
    "\n",
    "# Crea una instancia de Pinecone\n",
    "pc = Pinecone(api_key='c87f754c-84b9-420e-aa7d-9bc6929fe641')  # Reemplaza con tu clave de API\n",
    "index = pc.Index('books')\n",
    "\n",
    "# Cargar modelo de embeddings\n",
    "model = SentenceTransformer('all-MiniLM-L6-v2')  # Modelo ligero para generar embeddings\n",
    "\n",
    "# Generar y subir vectores a Pinecone\n",
    "for i, row in df.iterrows():\n",
    "    vector = model.encode(row['content'])  # Combina título y descripción para obtener un vector\n",
    "    index.upsert([(str(i), vector.tolist())])  # Almacena el vector en Pinecone con el ID del libro\n",
    "\n",
    "print(\"Vectores cargados en Pinecone.\")\n"
   ]
  }
 ],
 "metadata": {
  "kernelspec": {
   "display_name": "base",
   "language": "python",
   "name": "python3"
  },
  "language_info": {
   "codemirror_mode": {
    "name": "ipython",
    "version": 3
   },
   "file_extension": ".py",
   "mimetype": "text/x-python",
   "name": "python",
   "nbconvert_exporter": "python",
   "pygments_lexer": "ipython3",
   "version": "3.12.4"
  }
 },
 "nbformat": 4,
 "nbformat_minor": 2
}
